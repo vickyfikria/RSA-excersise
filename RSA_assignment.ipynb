{
  "nbformat": 4,
  "nbformat_minor": 0,
  "metadata": {
    "colab": {
      "provenance": []
    },
    "kernelspec": {
      "name": "python3",
      "display_name": "Python 3"
    },
    "language_info": {
      "name": "python"
    }
  },
  "cells": [
    {
      "cell_type": "code",
      "execution_count": 2,
      "metadata": {
        "id": "e6An4dtZIsBP"
      },
      "outputs": [],
      "source": [
        "import math\n",
        "import string"
      ]
    },
    {
      "cell_type": "code",
      "source": [
        "# tugas : gunakan bilangan prima p,q sesuai nim digit terakhir\n",
        "# contoh nim saya 2302222012\n",
        "# 2 digit pertama dari kanan : 12 => prima terdekat 13 => p\n",
        "# untuk q ambil bilangan prima lebih besar daripada, contoh 17\n",
        "p = 13\n",
        "q = 17\n",
        "n = p * q\n",
        "print(\"n = pxq:   {0}\".format(n))\n",
        "z = (p - 1)*(q-1)\n",
        "print(\"z = (p-1)x(q-1):   {0}\".format(z))\n"
      ],
      "metadata": {
        "colab": {
          "base_uri": "https://localhost:8080/"
        },
        "id": "Hx9uX7IjJE7t",
        "outputId": "07c2d99d-4b0f-4745-dc39-62e44f70ef0c"
      },
      "execution_count": 27,
      "outputs": [
        {
          "output_type": "stream",
          "name": "stdout",
          "text": [
            "n = pxq:   221\n",
            "z = (p-1)x(q-1):   192\n"
          ]
        }
      ]
    },
    {
      "cell_type": "code",
      "source": [
        "# cari nilai key enkripsi e dan key dekripsi d \n",
        "# e tidak divisible dengan z, contoh 19\n",
        "\n",
        "e = 19\n",
        "\n",
        "# cari nilai d sehingga ed -1 divisible dengan z\n",
        "for d in range(-50, 100):\n",
        "  if (e*d - 1) %z == 0: # ed - 1 | z must satisfied\n",
        "    print(\"when d = {0} , ed - 1 | z satisfied \".format(d))\n",
        "    print(\"So Public key (n,e) : ({0},{1})\".format(n,e))\n",
        "    print(\"and Private key (n,d) : ({0},{1})\\n\".format(n,d))\n"
      ],
      "metadata": {
        "colab": {
          "base_uri": "https://localhost:8080/"
        },
        "id": "gPsOnPsSTSty",
        "outputId": "f5c280bc-3a62-4874-a37c-e1c5d5bff474"
      },
      "execution_count": 38,
      "outputs": [
        {
          "output_type": "stream",
          "name": "stdout",
          "text": [
            "when d = 91 , ed - 1 | z satisfied \n",
            "So Public key (n,e) : (221,19)\n",
            "and Private key (n,d) : (221,91)\n",
            "\n"
          ]
        }
      ]
    },
    {
      "cell_type": "code",
      "source": [
        "word = \"assalammualaykum\"   #in case want to use UPPERcase, USE ord(m)-64\n",
        "cypertext = []  #cypher text placeholder\n",
        "ctext = []      #readable cyper text placeholder\n",
        "\n",
        "for m in word :\n",
        "  c = pow ( ord(m)-96, e, n) # ord(m)-9 will return 'a' as 1, 'b' as 2 , pow( base,exp, modulo) is ready to use python function\n",
        "  #c = pow ( ord(m)-64, e, n) # for upper case  \n",
        "  me = pow ( ord(m)-96, e)\n",
        "  print(\"'{0}', m^e={1}, encrypt to '{2}' ({3})\".format(m, me,chr(c+96), c))\n",
        "  cypertext.append(c) # we will use this for decrypt\n",
        "  ctext.append(chr(c+96)) #convert back to readable char\n",
        "\n",
        "print(\"{0} encrypted to {1}\".format(word,ctext))"
      ],
      "metadata": {
        "colab": {
          "base_uri": "https://localhost:8080/"
        },
        "id": "O0q59bjahX_8",
        "outputId": "a98bd385-3143-4ec3-b252-f4806d3e7f36"
      },
      "execution_count": 36,
      "outputs": [
        {
          "output_type": "stream",
          "name": "stdout",
          "text": [
            "'a', m^e=1, encrypt to 'a' (1)\n",
            "'s', m^e=1978419655660313589123979, encrypt to '' (59)\n",
            "'s', m^e=1978419655660313589123979, encrypt to '' (59)\n",
            "'a', m^e=1, encrypt to 'a' (1)\n",
            "'l', m^e=319479999370622926848, encrypt to 'ĕ' (181)\n",
            "'a', m^e=1, encrypt to 'a' (1)\n",
            "'m', m^e=1461920290375446110677, encrypt to 'İ' (208)\n",
            "'m', m^e=1461920290375446110677, encrypt to 'İ' (208)\n",
            "'u', m^e=13248496640331026125580781, encrypt to 'Ĩ' (200)\n",
            "'a', m^e=1, encrypt to 'a' (1)\n",
            "'l', m^e=319479999370622926848, encrypt to 'ĕ' (181)\n",
            "'a', m^e=1, encrypt to 'a' (1)\n",
            "'y', m^e=363797880709171295166015625, encrypt to 'û' (155)\n",
            "'k', m^e=61159090448414546291, encrypt to 'þ' (158)\n",
            "'u', m^e=13248496640331026125580781, encrypt to 'Ĩ' (200)\n",
            "'m', m^e=1461920290375446110677, encrypt to 'İ' (208)\n",
            "assalammualaykum encrypted to ['a', '\\x9b', '\\x9b', 'a', 'ĕ', 'a', 'İ', 'İ', 'Ĩ', 'a', 'ĕ', 'a', 'û', 'þ', 'Ĩ', 'İ']\n"
          ]
        }
      ]
    },
    {
      "cell_type": "code",
      "source": [
        "#choose d as 91\n",
        "d = 91\n",
        "decryptedtext = []  \n",
        "dtext = []\n",
        "\n",
        "for cyper in cypertext :\n",
        "  m = pow (cyper, d, n)\n",
        "  cd = pow (cyper, d)\n",
        "  print(\"c^d {0}, m : {1}\".format(cd, m))\n",
        "  decryptedtext.append(m)\n",
        "  dtext.append(chr(m+96)) #convert back to readable char\n",
        "\n",
        "print (decryptedtext)  \n",
        "print(\"decrypted message : {0}\".format(dtext))"
      ],
      "metadata": {
        "colab": {
          "base_uri": "https://localhost:8080/"
        },
        "id": "fxiafjsqoPhc",
        "outputId": "79875972-4000-44ce-c8ad-72a7ad133967"
      },
      "execution_count": 37,
      "outputs": [
        {
          "output_type": "stream",
          "name": "stdout",
          "text": [
            "c^d 1, m : 1\n",
            "c^d 140453659587167688876648604602659841837662379042193908804847531019234738494542994491296200046691597637741685608877546461041903194967927601417162423057876275623459, m : 19\n",
            "c^d 140453659587167688876648604602659841837662379042193908804847531019234738494542994491296200046691597637741685608877546461041903194967927601417162423057876275623459, m : 19\n",
            "c^d 1, m : 1\n",
            "c^d 28102846619806070979447715626273274335221006296123751770721856609484741740895667560736699221714200573846844797152312285645503058916493201304943440817877007858263362565070886007673857640245314768242058814381, m : 12\n",
            "c^d 1, m : 1\n",
            "c^d 8785439282341308563997137934855973877450738206081151536471949916148550053251306325562776071479835715674321720604173782857275776051300983909074058663778041950679928389323200657073032285465435050840412873600008192, m : 13\n",
            "c^d 8785439282341308563997137934855973877450738206081151536471949916148550053251306325562776071479835715674321720604173782857275776051300983909074058663778041950679928389323200657073032285465435050840412873600008192, m : 13\n",
            "c^d 247588007857076054979824844800000000000000000000000000000000000000000000000000000000000000000000000000000000000000000000000000000000000000000000000000000000000000000000000000000000000000000000000000000000000000, m : 21\n",
            "c^d 1, m : 1\n",
            "c^d 28102846619806070979447715626273274335221006296123751770721856609484741740895667560736699221714200573846844797152312285645503058916493201304943440817877007858263362565070886007673857640245314768242058814381, m : 12\n",
            "c^d 1, m : 1\n",
            "c^d 20901840699318337691944515793301297823870137591806399527996918009346699527467371690603768895208396069671812265786154992118150049094269820595410960418175408642542378867545949105988256633281707763671875, m : 25\n",
            "c^d 119617552721430950426413236795019583512485380848455443177409417077081414943902261462611192809065595007193179702658837858846850077581766955860035913207155426673491403299752286293221769785372387670228992, m : 11\n",
            "c^d 247588007857076054979824844800000000000000000000000000000000000000000000000000000000000000000000000000000000000000000000000000000000000000000000000000000000000000000000000000000000000000000000000000000000000000, m : 21\n",
            "c^d 8785439282341308563997137934855973877450738206081151536471949916148550053251306325562776071479835715674321720604173782857275776051300983909074058663778041950679928389323200657073032285465435050840412873600008192, m : 13\n",
            "[1, 19, 19, 1, 12, 1, 13, 13, 21, 1, 12, 1, 25, 11, 21, 13]\n",
            "decrypted message : ['a', 's', 's', 'a', 'l', 'a', 'm', 'm', 'u', 'a', 'l', 'a', 'y', 'k', 'u', 'm']\n"
          ]
        }
      ]
    }
  ]
}