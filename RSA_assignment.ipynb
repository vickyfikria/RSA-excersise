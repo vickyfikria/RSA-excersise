{
  "nbformat": 4,
  "nbformat_minor": 0,
  "metadata": {
    "colab": {
      "provenance": []
    },
    "kernelspec": {
      "name": "python3",
      "display_name": "Python 3"
    },
    "language_info": {
      "name": "python"
    }
  },
  "cells": [
    {
      "cell_type": "code",
      "execution_count": 2,
      "metadata": {
        "id": "e6An4dtZIsBP"
      },
      "outputs": [],
      "source": [
        "import math\n",
        "import string"
      ]
    },
    {
      "cell_type": "code",
      "source": [
        "# tugas : gunakan bilangan prima p,q sesuai nim digit terakhir\n",
        "# contoh nim saya 2302222012\n",
        "# 2 digit pertama dari kanan : 12 => prima terdekat 13 => p\n",
        "# untuk q ambil bilangan prima lebih besar daripada, contoh 17\n",
        "p = 13\n",
        "q = 17\n",
        "n = p * q\n",
        "print(\"n = pxq:   {0}\".format(n))\n",
        "z = (p - 1)*(q-1)\n",
        "print(\"z = (p-1)x(q-1):   {0}\".format(z))\n"
      ],
      "metadata": {
        "colab": {
          "base_uri": "https://localhost:8080/"
        },
        "id": "Hx9uX7IjJE7t",
        "outputId": "07c2d99d-4b0f-4745-dc39-62e44f70ef0c"
      },
      "execution_count": 27,
      "outputs": [
        {
          "output_type": "stream",
          "name": "stdout",
          "text": [
            "n = pxq:   221\n",
            "z = (p-1)x(q-1):   192\n"
          ]
        }
      ]
    },
    {
      "cell_type": "code",
      "source": [
        "# cari nilai key enkripsi e dan key dekripsi d yang divisable dengan z\n",
        "# e adalah FPB dari n, tapi bukan common divisor dengan faktor dari z\n",
        "# cari nilai d sehingga ed -1 divisible dengan z (2)\n",
        "e = 19\n",
        "\n",
        "for d in range(-50, 100):\n",
        "  if (e*d - 1) %z == 0: # ed - 1 | z must satisfied\n",
        "    print(\"when d = {0} , ed - 1 | z satisfied \".format(d))\n",
        "    print(\"So Public key (n,e) : ({0},{1})\".format(n,e))\n",
        "    print(\"and Private key (n,d) : ({0},{1})\\n\".format(n,d))\n"
      ],
      "metadata": {
        "colab": {
          "base_uri": "https://localhost:8080/"
        },
        "id": "gPsOnPsSTSty",
        "outputId": "5b951ef1-54a2-47a4-df10-d40954f9d331"
      },
      "execution_count": 24,
      "outputs": [
        {
          "output_type": "stream",
          "name": "stdout",
          "text": [
            "when d = 91 , ed - 1 | z satisfied \n",
            "So Public key (n,e) : (221,19)\n",
            "and Private key (n,d) : (221,91)\n",
            "\n"
          ]
        }
      ]
    },
    {
      "cell_type": "code",
      "source": [
        "word = \"love\"   #in case want to use UPPERcase, USE ord(m)-64\n",
        "cypertext = []  #cypher text placeholder\n",
        "ctext = []      #readable cyper text placeholder\n",
        "\n",
        "for m in word :\n",
        "  c = pow ( ord(m)-96, e, n) # ord(m)-9 will return 'a' as 1, 'b' as 2 , pow( base,exp, modulo) is ready to use python function\n",
        "  #c = pow ( ord(m)-64, e, n) # for upper case  \n",
        "  me = pow ( ord(m)-96, e)\n",
        "  print(\"'{0}', m^e={1}, encrypt to '{2}' ({3})\".format(m, me,chr(c+96), c))\n",
        "  cypertext.append(c) # we will use this for decrypt\n",
        "  ctext.append(chr(c+96)) #convert back to readable char\n",
        "\n",
        "print(\"{0} encrypted to {1}\".format(word,ctext))"
      ],
      "metadata": {
        "colab": {
          "base_uri": "https://localhost:8080/"
        },
        "id": "O0q59bjahX_8",
        "outputId": "cd296ab8-eab5-42b4-b9f5-665d3256033e"
      },
      "execution_count": 25,
      "outputs": [
        {
          "output_type": "stream",
          "name": "stdout",
          "text": [
            "'l', m^e=319479999370622926848, encrypt to 'ĕ' (181)\n",
            "'o', m^e=22168378200531005859375, encrypt to 'à' (128)\n",
            "'v', m^e=32064977213018365645815808, encrypt to 'ª' (74)\n",
            "'e', m^e=19073486328125, encrypt to 'Ý' (125)\n",
            "love encrypted to ['ĕ', 'à', 'ª', 'Ý']\n"
          ]
        }
      ]
    },
    {
      "cell_type": "code",
      "source": [
        "#choose d as 91\n",
        "d = 91\n",
        "decryptedtext = []  \n",
        "dtext = []\n",
        "\n",
        "for cyper in cypertext :\n",
        "  m = pow (cyper, d, n)\n",
        "  cd = pow (cyper, d)\n",
        "  print(\"c^d {0}, m : {1}\".format(cd, m))\n",
        "  decryptedtext.append(m)\n",
        "  dtext.append(chr(m+96)) #convert back to readable char\n",
        "\n",
        "print (decryptedtext)  \n",
        "print(\"decrypted message : {0}\".format(dtext))"
      ],
      "metadata": {
        "colab": {
          "base_uri": "https://localhost:8080/"
        },
        "id": "fxiafjsqoPhc",
        "outputId": "fa5ca89e-439e-4ece-d5e2-1507763c6679"
      },
      "execution_count": 26,
      "outputs": [
        {
          "output_type": "stream",
          "name": "stdout",
          "text": [
            "c^d 28102846619806070979447715626273274335221006296123751770721856609484741740895667560736699221714200573846844797152312285645503058916493201304943440817877007858263362565070886007673857640245314768242058814381, m : 12\n",
            "c^d 570305077202774402330146450712536415611653563406069991322399064737409395901084673313239101414671424972330288696699300913836088090171929749781582664965276773531499334295033118760359274030825472, m : 15\n",
            "c^d 125917616849384704891114678967008781857590360625625737329101324633083603794749575077604012328903351571690116484277485137782608736700059737704216268693456792458196181581824, m : 22\n",
            "c^d 65888737145190770152178587820437618798187258639803172187986018906925901818560997451564846065309816181644800521439740475440941611838012288617347746101822469899644829638418741524219512939453125, m : 5\n",
            "[12, 15, 22, 5]\n",
            "decrypted message : ['l', 'o', 'v', 'e']\n"
          ]
        }
      ]
    }
  ]
}